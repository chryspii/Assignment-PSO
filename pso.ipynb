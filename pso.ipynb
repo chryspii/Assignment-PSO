{
 "cells": [
  {
   "cell_type": "code",
   "execution_count": 1,
   "metadata": {},
   "outputs": [],
   "source": [
    "import numpy as np\n",
    "import pandas as pd\n",
    "import random\n",
    "import math"
   ]
  },
  {
   "cell_type": "code",
   "execution_count": 2,
   "metadata": {},
   "outputs": [],
   "source": [
    "## function for calculate fitness\n",
    "def fitnessFunction(x, y):\n",
    "    f = round(math.cos((x - 1.14) ** 3) - 100000 * (y ** 2 - x) ** 2, 3)\n",
    "    return f"
   ]
  },
  {
   "cell_type": "code",
   "execution_count": 3,
   "metadata": {},
   "outputs": [],
   "source": [
    "## function for generate fitness array\n",
    "def fitness(location):\n",
    "    fit = []\n",
    "    for i in range(len(location)):\n",
    "        # constraint hadling for x + y >= 1, using Dynamic Penalty\n",
    "        if location[i][0] + location[i][1] < 1:\n",
    "            f = fitnessFunction(location[i][0], location[i][1])\t\n",
    "            temp = f - ((0.5 * f) ** 2) * (abs((location[i][0] + location[i][1]) - 1) ** 2)\n",
    "        else:\n",
    "            temp = fitnessFunction(location[i][0], location[i][1])\n",
    "        fit.append(temp)\n",
    "    return fit"
   ]
  },
  {
   "cell_type": "code",
   "execution_count": 4,
   "metadata": {},
   "outputs": [],
   "source": [
    "## function for initialize particle position and velocity\n",
    "def initializeParticle(num_of_particle, x_range, y_range):\n",
    "    location = []\n",
    "    count = 0\n",
    "    while count < num_of_particle:\n",
    "        x = round(random.uniform(x_range[0], x_range[1]), 3)\n",
    "        y = round(random.uniform(y_range[0], y_range[1]), 3)\n",
    "        if x + y >= 1:\n",
    "            temp = [x, y]\n",
    "            location.append(temp)\n",
    "            count += 1\n",
    "\n",
    "    velocity = []\n",
    "    for i in range(num_of_particle):\n",
    "        x = round(random.uniform(-1, 1), 3)\n",
    "        y = round(random.uniform(-1, 1), 3)\n",
    "        temp = [x, y]\n",
    "        velocity.append(temp)\n",
    "\n",
    "    return location, velocity"
   ]
  },
  {
   "cell_type": "code",
   "execution_count": 5,
   "metadata": {},
   "outputs": [],
   "source": [
    "## function for initialize pBest array with negative value\n",
    "def initializePbest(num_of_particle):\n",
    "    pBest = []\n",
    "    pBestLoc = []\n",
    "    for i in range(num_of_particle):\n",
    "        pBest.append(-float('Inf'))\n",
    "        pBestLoc.append([-float('Inf'), -float('Inf')])\n",
    "\n",
    "    return pBest, pBestLoc"
   ]
  },
  {
   "cell_type": "code",
   "execution_count": 6,
   "metadata": {},
   "outputs": [],
   "source": [
    "## function for find pBest, pBestLoc, gBest, and gBestLoc\n",
    "def best(fit, pBest, pBestLoc, particle):\n",
    "    pBestTemp = []\n",
    "    pBestLocTemp = []\n",
    "    for i in range(len(fit)):\n",
    "        if fit[i] >= pBest[i]:\n",
    "            pBestTemp.append(fit[i])\n",
    "            pBestLocTemp.append([particle[i][0], particle[i][1]])\n",
    "        else:\n",
    "            pBestTemp.append(pBest[i])\n",
    "            pBestLocTemp.append([pBestLoc[i][0], pBestLoc[i][1]])\n",
    "    gBest = max(pBestTemp)\n",
    "    gBestLoc = pBestTemp.index(max(pBestTemp))\n",
    "\n",
    "    return pBestTemp, pBestLocTemp, gBest, gBestLoc"
   ]
  },
  {
   "cell_type": "code",
   "execution_count": 25,
   "metadata": {},
   "outputs": [],
   "source": [
    "## parameters\n",
    "c1 = 1 # acceleration constant 1\n",
    "c2 = 2 # acceleration constant 2\n",
    "iteration = 100\n",
    "num_of_particle = 25\n",
    "p_crazy = 0.6 # craziness probability\n",
    "\n",
    "x_range = [0, 2]\n",
    "y_range = [0, 3]\n",
    "vxmax = 0.1 * x_range[1] # velocity x maximum\n",
    "vymax = 0.1 * y_range[1] # velocity y maximum"
   ]
  },
  {
   "cell_type": "code",
   "execution_count": 26,
   "metadata": {},
   "outputs": [],
   "source": [
    "## initial particle and velocity\n",
    "particle, velocity = initializeParticle(num_of_particle, x_range, y_range)"
   ]
  },
  {
   "cell_type": "code",
   "execution_count": 27,
   "metadata": {},
   "outputs": [],
   "source": [
    "pBest, pBestLoc = initializePbest(num_of_particle)"
   ]
  },
  {
   "cell_type": "code",
   "execution_count": 28,
   "metadata": {},
   "outputs": [
    {
     "name": "stdout",
     "output_type": "stream",
     "text": [
      "iter:  0  X: 1.081 Y: 1.023 => -117.825\n",
      "iter:  1  X: 1.123 Y: 1.062 => -1.346\n",
      "iter:  2  X: 1.123 Y: 1.062 => -1.346\n",
      "iter:  3  X: 1.123 Y: 1.062 => -1.346\n",
      "iter:  4  X: 1.123 Y: 1.062 => -1.346\n",
      "iter:  5  X: 1.123 Y: 1.062 => -1.346\n",
      "iter:  6  X: 1.123 Y: 1.062 => -1.346\n",
      "iter:  7  X: 1.123 Y: 1.062 => -1.346\n",
      "iter:  8  X: 1.123 Y: 1.062 => -1.346\n",
      "iter:  9  X: 1.123 Y: 1.062 => -1.346\n",
      "iter: 10  X: 2.000 Y: 1.415 => 0.527\n",
      "iter: 11  X: 2.000 Y: 1.415 => 0.527\n",
      "iter: 12  X: 2.000 Y: 1.415 => 0.527\n",
      "iter: 13  X: 2.000 Y: 1.415 => 0.527\n",
      "iter: 14  X: 2.000 Y: 1.415 => 0.527\n",
      "iter: 15  X: 2.000 Y: 1.415 => 0.527\n",
      "iter: 16  X: 2.000 Y: 1.415 => 0.527\n",
      "iter: 17  X: 2.000 Y: 1.415 => 0.527\n",
      "iter: 18  X: 2.000 Y: 1.415 => 0.527\n",
      "iter: 19  X: 2.000 Y: 1.415 => 0.527\n",
      "iter: 20  X: 2.000 Y: 1.415 => 0.527\n",
      "iter: 21  X: 2.000 Y: 1.415 => 0.527\n",
      "iter: 22  X: 2.000 Y: 1.415 => 0.527\n",
      "iter: 23  X: 2.000 Y: 1.415 => 0.527\n",
      "iter: 24  X: 2.000 Y: 1.415 => 0.527\n",
      "iter: 25  X: 2.000 Y: 1.415 => 0.527\n",
      "iter: 26  X: 2.000 Y: 1.415 => 0.527\n",
      "iter: 27  X: 2.000 Y: 1.415 => 0.527\n",
      "iter: 28  X: 2.000 Y: 1.415 => 0.527\n",
      "iter: 29  X: 2.000 Y: 1.415 => 0.527\n",
      "iter: 30  X: 2.000 Y: 1.415 => 0.527\n",
      "iter: 31  X: 2.000 Y: 1.415 => 0.527\n",
      "iter: 32  X: 2.000 Y: 1.415 => 0.527\n",
      "iter: 33  X: 2.000 Y: 1.415 => 0.527\n",
      "iter: 34  X: 2.000 Y: 1.415 => 0.527\n",
      "iter: 35  X: 2.000 Y: 1.415 => 0.527\n",
      "iter: 36  X: 2.000 Y: 1.415 => 0.527\n",
      "iter: 37  X: 2.000 Y: 1.415 => 0.527\n",
      "iter: 38  X: 2.000 Y: 1.415 => 0.527\n",
      "iter: 39  X: 2.000 Y: 1.415 => 0.527\n",
      "iter: 40  X: 2.000 Y: 1.415 => 0.527\n",
      "iter: 41  X: 2.000 Y: 1.415 => 0.527\n",
      "iter: 42  X: 2.000 Y: 1.414 => 0.532\n",
      "iter: 43  X: 2.000 Y: 1.414 => 0.532\n",
      "iter: 44  X: 2.000 Y: 1.414 => 0.532\n",
      "iter: 45  X: 2.000 Y: 1.414 => 0.532\n",
      "iter: 46  X: 2.000 Y: 1.414 => 0.532\n",
      "iter: 47  X: 1.641 Y: 1.281 => 0.942\n",
      "iter: 48  X: 1.641 Y: 1.281 => 0.942\n",
      "iter: 49  X: 1.641 Y: 1.281 => 0.942\n",
      "iter: 50  X: 1.641 Y: 1.281 => 0.942\n",
      "iter: 51  X: 1.641 Y: 1.281 => 0.942\n",
      "iter: 52  X: 1.641 Y: 1.281 => 0.942\n",
      "iter: 53  X: 1.641 Y: 1.281 => 0.942\n",
      "iter: 54  X: 1.641 Y: 1.281 => 0.942\n",
      "iter: 55  X: 1.641 Y: 1.281 => 0.942\n",
      "iter: 56  X: 1.641 Y: 1.281 => 0.942\n",
      "iter: 57  X: 1.641 Y: 1.281 => 0.942\n",
      "iter: 58  X: 1.641 Y: 1.281 => 0.942\n",
      "iter: 59  X: 1.641 Y: 1.281 => 0.942\n",
      "iter: 60  X: 1.641 Y: 1.281 => 0.942\n",
      "iter: 61  X: 1.641 Y: 1.281 => 0.942\n",
      "iter: 62  X: 1.641 Y: 1.281 => 0.942\n",
      "iter: 63  X: 1.641 Y: 1.281 => 0.942\n",
      "iter: 64  X: 1.641 Y: 1.281 => 0.942\n",
      "iter: 65  X: 1.641 Y: 1.281 => 0.942\n",
      "iter: 66  X: 1.641 Y: 1.281 => 0.942\n",
      "iter: 67  X: 1.641 Y: 1.281 => 0.942\n",
      "iter: 68  X: 1.641 Y: 1.281 => 0.942\n",
      "iter: 69  X: 1.641 Y: 1.281 => 0.942\n",
      "iter: 70  X: 1.641 Y: 1.281 => 0.942\n",
      "iter: 71  X: 1.641 Y: 1.281 => 0.942\n",
      "iter: 72  X: 1.641 Y: 1.281 => 0.942\n",
      "iter: 73  X: 1.641 Y: 1.281 => 0.942\n",
      "iter: 74  X: 1.641 Y: 1.281 => 0.942\n",
      "iter: 75  X: 1.641 Y: 1.281 => 0.942\n",
      "iter: 76  X: 1.641 Y: 1.281 => 0.942\n",
      "iter: 77  X: 1.641 Y: 1.281 => 0.942\n",
      "iter: 78  X: 1.641 Y: 1.281 => 0.942\n",
      "iter: 79  X: 1.641 Y: 1.281 => 0.942\n",
      "iter: 80  X: 1.641 Y: 1.281 => 0.942\n",
      "iter: 81  X: 1.641 Y: 1.281 => 0.942\n",
      "iter: 82  X: 1.641 Y: 1.281 => 0.942\n",
      "iter: 83  X: 1.641 Y: 1.281 => 0.942\n",
      "iter: 84  X: 1.641 Y: 1.281 => 0.942\n",
      "iter: 85  X: 1.641 Y: 1.281 => 0.942\n",
      "iter: 86  X: 1.641 Y: 1.281 => 0.942\n",
      "iter: 87  X: 1.641 Y: 1.281 => 0.942\n",
      "iter: 88  X: 1.641 Y: 1.281 => 0.942\n",
      "iter: 89  X: 1.641 Y: 1.281 => 0.942\n",
      "iter: 90  X: 1.641 Y: 1.281 => 0.942\n",
      "iter: 91  X: 1.641 Y: 1.281 => 0.942\n",
      "iter: 92  X: 1.641 Y: 1.281 => 0.942\n",
      "iter: 93  X: 1.641 Y: 1.281 => 0.942\n",
      "iter: 94  X: 1.641 Y: 1.281 => 0.942\n",
      "iter: 95  X: 1.641 Y: 1.281 => 0.942\n",
      "iter: 96  X: 1.641 Y: 1.281 => 0.942\n",
      "iter: 97  X: 1.641 Y: 1.281 => 0.942\n",
      "iter: 98  X: 1.641 Y: 1.281 => 0.942\n",
      "iter: 99  X: 1.641 Y: 1.281 => 0.942\n"
     ]
    }
   ],
   "source": [
    "result = []\n",
    "for n in range(iteration):\n",
    "    ## inertia weight\n",
    "    w = 1 - ((n / iteration) * (1 - 0))\n",
    "\n",
    "    fit = fitness(particle)\n",
    "\n",
    "    ## replace previous pBest and pBestLoc if new fit value is better than previous pBest\n",
    "    pBest, pBestLoc, gBest, gBestLoc = best(fit, pBest, pBestLoc, particle)\n",
    "    result.append(gBest)\n",
    "\n",
    "    print(\"iter: %2d  X: %.3f Y: %.3f => %.3f\" % (n, pBestLoc[gBestLoc][0], pBestLoc[gBestLoc][1], gBest))\n",
    "\n",
    "    for i in range(num_of_particle):\n",
    "        if i == gBestLoc:\n",
    "            velocity[i] = velocity[i]\n",
    "        else:\n",
    "            ## craziness\n",
    "            if random.uniform(0, 1) <= p_crazy:\n",
    "                velocity[i][0] = random.random() * vxmax\n",
    "                velocity[i][1] = random.random() * vymax\n",
    "            else:\n",
    "                velocity[i][0] = round((w * (velocity[i][0])) + (random.random() * c1 * (pBestLoc[i][0] - particle[i][0])) + (random.random() * c2 * (particle[gBestLoc][0] - particle[i][0])), 3)\n",
    "                velocity[i][1] = round((w * (velocity[i][1])) + (random.random() * c1 * (pBestLoc[i][1] - particle[i][1])) + (random.random() * c2 * (particle[gBestLoc][1] - particle[i][1])), 3)\n",
    "\n",
    "        ## velocity damping\n",
    "        if abs(velocity[i][0]) > vxmax:\n",
    "            velocity[i][0] = (velocity[i][0] / abs(velocity[i][0])) * vxmax\n",
    "        if abs(velocity[i][1]) > vymax:\n",
    "            velocity[i][1] = (velocity[i][1] / abs(velocity[i][1])) * vymax\n",
    "\n",
    "        particle[i][0] += velocity[i][0]\n",
    "        particle[i][1] += velocity[i][1]\n",
    "\n",
    "        ## constraint handling for 0 <= x <= 2 and 0 <= y <= 3 using Adhere strategy\n",
    "        if abs(particle[i][0]) > x_range[1]:\n",
    "            particle[i][0] = (particle[i][0] / abs(particle[i][0])) * x_range[1]\n",
    "        if abs(particle[i][1]) > y_range[1]:\n",
    "            particle[i][1] = (particle[i][1] / abs(particle[i][1])) * y_range[1]"
   ]
  },
  {
   "cell_type": "code",
   "execution_count": 29,
   "metadata": {},
   "outputs": [
    {
     "data": {
      "image/png": "[encoded data removed]",
      "text/plain": [
       "<Figure size 432x288 with 1 Axes>"
      ]
     },
     "metadata": {
      "needs_background": "light"
     },
     "output_type": "display_data"
    }
   ],
   "source": [
    "## plot\n",
    "import matplotlib.pyplot as plt\n",
    "%matplotlib inline\n",
    "plt.plot(result)\n",
    "plt.xlabel('Iteration')\n",
    "plt.ylabel('Score')\n",
    "plt.show()"
   ]
  },
  {
   "cell_type": "code",
   "execution_count": null,
   "metadata": {},
   "outputs": [],
   "source": []
  }
 ],
 "metadata": {
  "kernelspec": {
   "display_name": "Python 3",
   "language": "python",
   "name": "python3"
  },
  "language_info": {
   "codemirror_mode": {
    "name": "ipython",
    "version": 3
   },
   "file_extension": ".py",
   "mimetype": "text/x-python",
   "name": "python",
   "nbconvert_exporter": "python",
   "pygments_lexer": "ipython3",
   "version": "3.7.1"
  }
 },
 "nbformat": 4,
 "nbformat_minor": 2
}
